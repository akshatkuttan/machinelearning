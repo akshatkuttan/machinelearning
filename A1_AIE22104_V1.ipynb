{
 "cells": [
  {
   "cell_type": "code",
   "execution_count": 25,
   "id": "a1c88b92",
   "metadata": {},
   "outputs": [
    {
     "name": "stdout",
     "output_type": "stream",
     "text": [
      "Enter a string \n",
      "hello This is a Test\n",
      "The number of vowels 6\n",
      "The number of constanants 10\n"
     ]
    }
   ],
   "source": [
    "#Question 1\n",
    "def quesone():\n",
    "    vow=0 #define vowels variable\n",
    "    const=0 #define Constanant Variable\n",
    "    #Taking input as a string\n",
    "    a=input(\"Enter a string \\n\")\n",
    "    a=a.lower()# A function to convert the given string to lower case\n",
    "    a=a.replace(\" \",\"\") # To remove the spaces in the string\n",
    "    for i in range(len(a)): # A for loop in range of the length of the given string \n",
    "        if a[i] in (\"a\",\"e\",\"i\",\"o\",\"u\"): # Comparing the given string with the vowels given\n",
    "            vow+=1 # counts the number of vowels\n",
    "        else:\n",
    "            const+=1 # counts the number of constanants\n",
    "        \n",
    "    print(\"The number of vowels\", vow)\n",
    "    print(\"The number of constanants\",const)      \n",
    "    \n",
    "quesone()"
   ]
  },
  {
   "cell_type": "code",
   "execution_count": 29,
   "id": "bdd5d6a5",
   "metadata": {},
   "outputs": [
    {
     "name": "stdout",
     "output_type": "stream",
     "text": [
      "Enter the number of rows2\n",
      "Enter the number of columns2\n",
      "Enter element no 1,1:1\n",
      "Enter element no 1,2:2\n",
      "Enter element no 2,1:3\n",
      "Enter element no 2,2:4\n",
      "Enter element no 1,1:1\n",
      "Enter element no 1,2:2\n",
      "Enter element no 2,1:3\n",
      "Enter element no 2,2:4\n",
      "[7, 10]\n",
      "[15, 22]\n"
     ]
    }
   ],
   "source": [
    "#Question 2\n",
    "# create 2 empty lists as two matrices\n",
    "matA=[]\n",
    "matB=[]\n",
    "# Accept the rows and columns\n",
    "row=int(input(\"Enter the number of rows\"))\n",
    "col=int(input(\"Enter the number of columns\"))\n",
    "for i in range(row):\n",
    "    matrowA=[] #Create a row list to add the matrix\n",
    "    for j in range(col):\n",
    "        num=int(input(f\"Enter element no {i+1},{j+1}:\")) # Accept the values\n",
    "        matrowA.append(num) #Add the values to a list of matrow\n",
    "    matA.append(matrowA) #add the list to the matA\n",
    "# Same for matB\n",
    "for i in range(row):\n",
    "    matrowB=[]\n",
    "    for j in range(col):\n",
    "        num=int(input(f\"Enter element no {i+1},{j+1}:\"))\n",
    "        matrowB.append(num)\n",
    "    matB.append(matrowB)\n",
    "    \n",
    "    \n",
    "def multiply(matA,matB):\n",
    "    result=[[0 for _ in range(len(matB[0]))] for _ in range(len(matA[0]))] #To create a result matrix of every element 0\n",
    "    for i in range(len(matA)):\n",
    "        for j in range(len(matB[0])):\n",
    "            for k in range(len(matB)):\n",
    "                result[i][j]+=matA[i][k]*matB[k][j] #To multiply the values\n",
    "    return result\n",
    "                \n",
    "                \n",
    "answer=multiply(matA,matB)\n",
    "for row in answer:\n",
    "        print(row) #To print the values of the "
   ]
  },
  {
   "cell_type": "code",
   "execution_count": 21,
   "id": "2b89b77b",
   "metadata": {},
   "outputs": [
    {
     "name": "stdout",
     "output_type": "stream",
     "text": [
      "Enter the number of elements in list4\n",
      "Enter the list1 element no 1 \n",
      ":1\n",
      "Enter the list1 element no 2 \n",
      ":2\n",
      "Enter the list1 element no 3 \n",
      ":3\n",
      "Enter the list1 element no 4 \n",
      ":4\n",
      "Enter the list2 element no 1 \n",
      ":4\n",
      "Enter the list2 element no 2 \n",
      ":5\n",
      "Enter the list2 element no 3 \n",
      ":3\n",
      "Enter the list2 element no 4 \n",
      ":1\n",
      "[1, 3, 4]\n"
     ]
    }
   ],
   "source": [
    "# Question 3\n",
    "list1=[]\n",
    "list2=[]\n",
    "n=int(input(\"Enter the number of elements in list\"))\n",
    "for i in range (n): # for loop to add the elements in the list by using \"num\" variable\n",
    "    num1=int(input(f\"Enter the list1 element no {i+1} \\n:\"))\n",
    "    list1.append(num1) #append is used to add the elements to the list1\n",
    "        \n",
    "#Similar steps for inserting values in list2\n",
    "for i in range(n):\n",
    "    num2=int(input(f\"Enter the list2 element no {i+1} \\n:\"))\n",
    "    list2.append(num2)\n",
    "    \n",
    "    def commonele(list1, list2): #function \"commonele\" is created to find the common element\n",
    "        common=[] # created a empty list to store the common values\n",
    "        # for loop is used, i and j are used as pointers in list1 and list2 \n",
    "        for i in list1: \n",
    "            for j in list2:\n",
    "                if i==j: # If there are same element in list1 and list2 those elements are stored in \"common\" list \n",
    "                    common.append(i)\n",
    "        return common\n",
    "    \n",
    "print(commonele(list1,list2))\n",
    "        \n",
    "    "
   ]
  },
  {
   "cell_type": "code",
   "execution_count": 17,
   "id": "65f953c0",
   "metadata": {},
   "outputs": [
    {
     "name": "stdout",
     "output_type": "stream",
     "text": [
      "Enter the rows \n",
      "2\n",
      "Enter the col \n",
      "2\n",
      " Enter the number in position 1,1 \n",
      "3\n",
      " Enter the number in position 1,2 \n",
      "4\n",
      " Enter the number in position 2,1 \n",
      "7\n",
      " Enter the number in position 2,2 \n",
      "2\n",
      "([[3, 4], [7, 2]], [[3, 7], [4, 2]])\n"
     ]
    }
   ],
   "source": [
    "# Question 4\n",
    "# row and column values are taken\n",
    "rows=int(input(\"Enter the rows \\n\"))\n",
    "col=int(input(\"Enter the col \\n\"))\n",
    "def transmatrix(rows,cols):\n",
    "    # A fucntion is defined and 2 empty lists are created matric and tramat\n",
    "    matrix=[]\n",
    "    tramat=[]\n",
    "    for i in range(rows): # for loop is used to enter the values to create a matrix where i and j are used for rows and columns\n",
    "        matrow=[]\n",
    "        tra_matrow=[]\n",
    "        for j in range(col):\n",
    "            num=int(input(f\" Enter the number in position {i+1},{j+1} \\n\")) # The values are added to the list row wise\n",
    "            matrow.append(num) # Entered list are added to the matrow list\n",
    "            tra_matrow.append(num) # at the same time the same elements are added to tra_matrow\n",
    "        matrix.append(matrow) # The entered rows are put in a matric along with another list called tramat\n",
    "        tramat.append(tra_matrow)\n",
    "    \n",
    "    return matrix,[[matrix[j][i] for j in range(rows)] for i in range(col)] # To print the original matrix and transpose matrix.  \n",
    "\n",
    "print(transmatrix(rows,col))"
   ]
  },
  {
   "cell_type": "markdown",
   "id": "5ff2fd10",
   "metadata": {},
   "source": []
  }
 ],
 "metadata": {
  "kernelspec": {
   "display_name": "Python 3 (ipykernel)",
   "language": "python",
   "name": "python3"
  },
  "language_info": {
   "codemirror_mode": {
    "name": "ipython",
    "version": 3
   },
   "file_extension": ".py",
   "mimetype": "text/x-python",
   "name": "python",
   "nbconvert_exporter": "python",
   "pygments_lexer": "ipython3",
   "version": "3.11.5"
  }
 },
 "nbformat": 4,
 "nbformat_minor": 5
}
